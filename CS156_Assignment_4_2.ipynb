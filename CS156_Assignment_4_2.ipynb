{
  "nbformat": 4,
  "nbformat_minor": 0,
  "metadata": {
    "colab": {
      "name": "CS156_Assignment_4_2.ipynb",
      "provenance": []
    },
    "kernelspec": {
      "name": "python3",
      "display_name": "Python 3"
    }
  },
  "cells": [
    {
      "cell_type": "markdown",
      "metadata": {
        "id": "1HeM1ExtNtON"
      },
      "source": [
        "# **Assignment 4**\n",
        "## **CS156** | **Prof. Sterne**\n",
        "### Anirudh Nair"
      ]
    },
    {
      "cell_type": "markdown",
      "metadata": {
        "id": "9X1XKKOwSyAh"
      },
      "source": [
        "Link to assignment: https://colab.research.google.com/drive/1LyO8SpGzwzgX7Ynjzha09p68FuaLa_Z5"
      ]
    },
    {
      "cell_type": "markdown",
      "metadata": {
        "id": "9XHZpEQIN4bE"
      },
      "source": [
        "## Part 1: Loading the data and cleaning it"
      ]
    },
    {
      "cell_type": "code",
      "metadata": {
        "id": "AyFZrOIh7wTA"
      },
      "source": [
        "#importing the required libraries\n",
        "import numpy as np\n",
        "import matplotlib\n",
        "import matplotlib.pyplot as plt\n",
        "import time\n",
        "from sklearn import svm\n",
        "from sklearn.datasets import fetch_openml\n",
        "from sklearn.metrics import accuracy_score, classification_report\n",
        "from sklearn.model_selection import cross_validate\n",
        "from sklearn.model_selection import cross_val_predict"
      ],
      "execution_count": null,
      "outputs": []
    },
    {
      "cell_type": "code",
      "metadata": {
        "id": "WyFpacCf75xj",
        "colab": {
          "base_uri": "https://localhost:8080/",
          "height": 34
        },
        "outputId": "d578bf7e-b457-4e1d-c19d-2d086881e294"
      },
      "source": [
        "#downloading the datasets from the mnist dataset and loading them into x and y datasets\n",
        "mnist = fetch_openml('mnist_784', version=1, cache=True)\n",
        "x = mnist[\"data\"]\n",
        "y = mnist[\"target\"]\n",
        "x.shape"
      ],
      "execution_count": null,
      "outputs": [
        {
          "output_type": "execute_result",
          "data": {
            "text/plain": [
              "(70000, 784)"
            ]
          },
          "metadata": {
            "tags": []
          },
          "execution_count": 5
        }
      ]
    },
    {
      "cell_type": "code",
      "metadata": {
        "id": "txpm1RcN73ea"
      },
      "source": [
        "#splitting the data for training and testing with proper propotions\n",
        "x_train = x[2000:10000]\n",
        "x_test = x[:2000]\n",
        "y_train = y[2000:10000]\n",
        "y_test = y[:2000]"
      ],
      "execution_count": null,
      "outputs": []
    },
    {
      "cell_type": "code",
      "metadata": {
        "id": "hfJpUt6y8PMT"
      },
      "source": [
        "#customizing the dataset to only include the digits we are aiming to qualify\n",
        "train_locations = np.where(np.logical_or(y_train == '5' , y_train == '8' ))\n",
        "xtrain = x_train[train_locations] #Slicing Training Set \n",
        "ytrain = y_train[train_locations] #Slicing Test Set\n",
        "\n",
        "test_locations = np.where(np.logical_or(y_test == '5' , y_test == '8' ))\n",
        "xtest = x_test[test_locations]\n",
        "ytest = y_test[test_locations]"
      ],
      "execution_count": null,
      "outputs": []
    },
    {
      "cell_type": "code",
      "metadata": {
        "id": "9GO2gvnk8R0M",
        "colab": {
          "base_uri": "https://localhost:8080/",
          "height": 68
        },
        "outputId": "d7bdf270-ce09-4ade-bac5-dca14379378a"
      },
      "source": [
        "#checking the propotion of testing and training data\n",
        "print(\"Lenghths of the training set data:\", len(xtrain), \",\" ,len(ytrain))\n",
        "print(\"Length of testing set data\", len(xtest), \",\" ,len(ytest))\n",
        "print(\"Test set proportion: \", float(len(xtest))/(len(xtrain)+len(xtest)))"
      ],
      "execution_count": null,
      "outputs": [
        {
          "output_type": "stream",
          "text": [
            "Lenghths of the training set data: 1455 , 1455\n",
            "Length of testing set data 352 , 352\n",
            "Test set proportion:  0.19479800774764802\n"
          ],
          "name": "stdout"
        }
      ]
    },
    {
      "cell_type": "code",
      "metadata": {
        "id": "tvbyPw658Tfo",
        "colab": {
          "base_uri": "https://localhost:8080/",
          "height": 265
        },
        "outputId": "358c5793-ae18-4d35-f7e1-96ea8b7f2e3f"
      },
      "source": [
        "#plotting the image\n",
        "digit1 = xtest[100]\n",
        "digit1_plot = digit1.reshape(28, 28)\n",
        "\n",
        "plt.imshow(digit1_plot, cmap = matplotlib.cm.binary, interpolation = \"nearest\")\n",
        "plt.axis(\"on\")\n",
        "plt.show()"
      ],
      "execution_count": null,
      "outputs": [
        {
          "output_type": "display_data",
          "data": {
            "image/png": "[encoded data removed]",
            "text/plain": [
              "<Figure size 432x288 with 1 Axes>"
            ]
          },
          "metadata": {
            "tags": []
          }
        }
      ]
    },
    {
      "cell_type": "code",
      "metadata": {
        "id": "RW4M9szr8VMg",
        "colab": {
          "base_uri": "https://localhost:8080/",
          "height": 34
        },
        "outputId": "3a30575b-4a9d-454d-9e19-549574a7b1b8"
      },
      "source": [
        "#checking the propotions of 5s and 8s in the dataset to prevent biasing\n",
        "fives = (ytrain == '5').sum() + (ytest == '5').sum()\n",
        "eights = (ytrain == '8').sum() + (ytest == '8').sum()\n",
        "print(fives/eights)"
      ],
      "execution_count": null,
      "outputs": [
        {
          "output_type": "stream",
          "text": [
            "0.9141949152542372\n"
          ],
          "name": "stdout"
        }
      ]
    },
    {
      "cell_type": "markdown",
      "metadata": {
        "id": "u4ytee51N8vJ"
      },
      "source": [
        "# Part 2: Training the Classifier"
      ]
    },
    {
      "cell_type": "code",
      "metadata": {
        "id": "LRumoxyOP6yl",
        "colab": {
          "base_uri": "https://localhost:8080/",
          "height": 119
        },
        "outputId": "9d609bbb-d64a-4b77-8a28-24edca3b885b"
      },
      "source": [
        "for i in [0.1, 1, 10]:\n",
        "    clf = svm.SVC(kernel='linear', C=i) \n",
        "    initial = time.time()\n",
        "    clf.fit(xtrain, ytrain)\n",
        "    final = time.time()\n",
        "    print(\"Training time for linear kernel when C =\", i ,\":\", '%.2f'%(final - initial), \"sec\")  \n",
        "\n",
        "    #error rate\n",
        "    pred = clf.predict(xtest)\n",
        "    err_rate = 1 - accuracy_score(ytest, pred)\n",
        "    print(\"Error rate for linear kernel when C =\", i ,\"is\", err_rate)"
      ],
      "execution_count": null,
      "outputs": [
        {
          "output_type": "stream",
          "text": [
            "Training time for linear kernel when C = 0.1 : 0.46 sec\n",
            "Error rate for linear kernel when C = 0.1 is 0.051136363636363646\n",
            "Training time for linear kernel when C = 1 : 0.44 sec\n",
            "Error rate for linear kernel when C = 1 is 0.051136363636363646\n",
            "Training time for linear kernel when C = 10 : 0.45 sec\n",
            "Error rate for linear kernel when C = 10 is 0.051136363636363646\n"
          ],
          "name": "stdout"
        }
      ]
    },
    {
      "cell_type": "code",
      "metadata": {
        "id": "MqDx0JJ18b-D"
      },
      "source": [
        "# Defining a function to train a support vector classifier for different kernels and values of regularization and gamma and displaying the metrics for each classifier trained\n",
        "def predict_svc(kernel_type,C=1, gamma=None,degree=None):\n",
        "    print((kernel_type),\"kernel\")\n",
        "    if kernel_type != 'linear':\n",
        "        print(\"Parameters: C = \",(C),\" gamma = \",(gamma),\" degree = \",(degree))\n",
        "    else:\n",
        "      print(\"Regularization Parameter = \", (C) )\n",
        "\n",
        "\n",
        "    start = time.time()\n",
        "    # Setting the regularization parameter\n",
        "    C = C \n",
        "    # Running the model and fitting the xtrain and ytrain values into the model\n",
        "    if kernel_type == 'linear':\n",
        "        clf = svm.SVC(kernel=kernel_type, C=C) \n",
        "    if kernel_type == 'rbf':\n",
        "        clf = svm.SVC(kernel=kernel_type, C=C, gamma=gamma)\n",
        "    if kernel_type == 'poly':\n",
        "        clf = svm.SVC(kernel=kernel_type, C=C, degree=degree)\n",
        "    clf.fit(xtrain,ytrain) \n",
        "    end = time.time()\n",
        "    print(\"Training time = \", (end-start))\n",
        "\n",
        "    # Running the model on the testing set to report accuracy \n",
        "    y_pred = clf.predict(xtest)\n",
        "    accuracy = accuracy_score(ytest,y_pred)\n",
        "    error_rate = 1-accuracy\n",
        "    print(\"Accuracy Score :\",(accuracy))\n",
        "    print(\"Error Rate: \", (error_rate))\n",
        "    print (\".................................................................................\")"
      ],
      "execution_count": null,
      "outputs": []
    },
    {
      "cell_type": "code",
      "metadata": {
        "id": "MZeJ6vQh8rT4",
        "colab": {
          "base_uri": "https://localhost:8080/",
          "height": 323
        },
        "outputId": "98634096-2df4-4346-aa29-104b76056321"
      },
      "source": [
        "C_range = [0.1, 1, 10]\n",
        "results_linear = []\n",
        "for C in C_range:\n",
        "    predict_svc('linear', C=C) \n"
      ],
      "execution_count": null,
      "outputs": [
        {
          "output_type": "stream",
          "text": [
            "linear kernel\n",
            "Regularization Parameter =  0.1\n",
            "Training time =  0.4531862735748291\n",
            "Accuracy Score : 0.9488636363636364\n",
            "Error Rate:  0.051136363636363646\n",
            ".................................................................................\n",
            "linear kernel\n",
            "Regularization Parameter =  1\n",
            "Training time =  0.439464807510376\n",
            "Accuracy Score : 0.9488636363636364\n",
            "Error Rate:  0.051136363636363646\n",
            ".................................................................................\n",
            "linear kernel\n",
            "Regularization Parameter =  10\n",
            "Training time =  0.43898630142211914\n",
            "Accuracy Score : 0.9488636363636364\n",
            "Error Rate:  0.051136363636363646\n",
            ".................................................................................\n"
          ],
          "name": "stdout"
        }
      ]
    },
    {
      "cell_type": "markdown",
      "metadata": {
        "id": "ovUdpei8Q7dZ"
      },
      "source": [
        "We can see that we obtain a pretty decent accuracy score just by using a linear kernel. The classifier is able to classify 94% or the data accurately. Also, changing the regularization parameter (specifying how miss-classifications are allowed) doesn't have much of an impact on the accuracy score."
      ]
    },
    {
      "cell_type": "code",
      "metadata": {
        "id": "4tYOR82T_UDK",
        "colab": {
          "base_uri": "https://localhost:8080/",
          "height": 2159
        },
        "outputId": "65f03b70-7ccc-45e1-c5b4-362dd9daa06c"
      },
      "source": [
        "import warnings\n",
        "warnings.filterwarnings(\"ignore\")\n",
        "\n",
        "degrees = [2,3,4,5,7,15,50]\n",
        "results_polys = []\n",
        "for degree in degrees:\n",
        "    for C in [0.01,1,10]:\n",
        "        predict_svc('poly', C=C, degree = degree) "
      ],
      "execution_count": null,
      "outputs": [
        {
          "output_type": "stream",
          "text": [
            "poly kernel\n",
            "Parameters: C =  0.01  gamma =  None  degree =  2\n",
            "Training time =  0.4945211410522461\n",
            "Accuracy Score : 0.9886363636363636\n",
            "Error Rate:  0.011363636363636354\n",
            ".................................................................................\n",
            "poly kernel\n",
            "Parameters: C =  1  gamma =  None  degree =  2\n",
            "Training time =  0.4910752773284912\n",
            "Accuracy Score : 0.9886363636363636\n",
            "Error Rate:  0.011363636363636354\n",
            ".................................................................................\n",
            "poly kernel\n",
            "Parameters: C =  10  gamma =  None  degree =  2\n",
            "Training time =  0.4934709072113037\n",
            "Accuracy Score : 0.9886363636363636\n",
            "Error Rate:  0.011363636363636354\n",
            ".................................................................................\n",
            "poly kernel\n",
            "Parameters: C =  0.01  gamma =  None  degree =  3\n",
            "Training time =  0.5241835117340088\n",
            "Accuracy Score : 0.9857954545454546\n",
            "Error Rate:  0.014204545454545414\n",
            ".................................................................................\n",
            "poly kernel\n",
            "Parameters: C =  1  gamma =  None  degree =  3\n",
            "Training time =  0.5304546356201172\n",
            "Accuracy Score : 0.9857954545454546\n",
            "Error Rate:  0.014204545454545414\n",
            ".................................................................................\n",
            "poly kernel\n",
            "Parameters: C =  10  gamma =  None  degree =  3\n",
            "Training time =  0.5260062217712402\n",
            "Accuracy Score : 0.9857954545454546\n",
            "Error Rate:  0.014204545454545414\n",
            ".................................................................................\n",
            "poly kernel\n",
            "Parameters: C =  0.01  gamma =  None  degree =  4\n",
            "Training time =  0.5657181739807129\n",
            "Accuracy Score : 0.9857954545454546\n",
            "Error Rate:  0.014204545454545414\n",
            ".................................................................................\n",
            "poly kernel\n",
            "Parameters: C =  1  gamma =  None  degree =  4\n",
            "Training time =  0.5636389255523682\n",
            "Accuracy Score : 0.9857954545454546\n",
            "Error Rate:  0.014204545454545414\n",
            ".................................................................................\n",
            "poly kernel\n",
            "Parameters: C =  10  gamma =  None  degree =  4\n",
            "Training time =  0.5629382133483887\n",
            "Accuracy Score : 0.9857954545454546\n",
            "Error Rate:  0.014204545454545414\n",
            ".................................................................................\n",
            "poly kernel\n",
            "Parameters: C =  0.01  gamma =  None  degree =  5\n",
            "Training time =  0.6511061191558838\n",
            "Accuracy Score : 0.96875\n",
            "Error Rate:  0.03125\n",
            ".................................................................................\n",
            "poly kernel\n",
            "Parameters: C =  1  gamma =  None  degree =  5\n",
            "Training time =  0.6551668643951416\n",
            "Accuracy Score : 0.96875\n",
            "Error Rate:  0.03125\n",
            ".................................................................................\n",
            "poly kernel\n",
            "Parameters: C =  10  gamma =  None  degree =  5\n",
            "Training time =  0.6544065475463867\n",
            "Accuracy Score : 0.96875\n",
            "Error Rate:  0.03125\n",
            ".................................................................................\n",
            "poly kernel\n",
            "Parameters: C =  0.01  gamma =  None  degree =  7\n",
            "Training time =  0.800137996673584\n",
            "Accuracy Score : 0.9403409090909091\n",
            "Error Rate:  0.05965909090909094\n",
            ".................................................................................\n",
            "poly kernel\n",
            "Parameters: C =  1  gamma =  None  degree =  7\n",
            "Training time =  0.8017675876617432\n",
            "Accuracy Score : 0.9403409090909091\n",
            "Error Rate:  0.05965909090909094\n",
            ".................................................................................\n",
            "poly kernel\n",
            "Parameters: C =  10  gamma =  None  degree =  7\n",
            "Training time =  0.7973108291625977\n",
            "Accuracy Score : 0.9403409090909091\n",
            "Error Rate:  0.05965909090909094\n",
            ".................................................................................\n",
            "poly kernel\n",
            "Parameters: C =  0.01  gamma =  None  degree =  15\n",
            "Training time =  0.01478123664855957\n",
            "Accuracy Score : 0.48863636363636365\n",
            "Error Rate:  0.5113636363636364\n",
            ".................................................................................\n",
            "poly kernel\n",
            "Parameters: C =  1  gamma =  None  degree =  15\n",
            "Training time =  0.019042253494262695\n",
            "Accuracy Score : 0.48863636363636365\n",
            "Error Rate:  0.5113636363636364\n",
            ".................................................................................\n",
            "poly kernel\n",
            "Parameters: C =  10  gamma =  None  degree =  15\n",
            "Training time =  0.012327432632446289\n",
            "Accuracy Score : 0.48863636363636365\n",
            "Error Rate:  0.5113636363636364\n",
            ".................................................................................\n",
            "poly kernel\n",
            "Parameters: C =  0.01  gamma =  None  degree =  50\n",
            "Training time =  0.01183629035949707\n",
            "Accuracy Score : 0.48863636363636365\n",
            "Error Rate:  0.5113636363636364\n",
            ".................................................................................\n",
            "poly kernel\n",
            "Parameters: C =  1  gamma =  None  degree =  50\n",
            "Training time =  0.012745857238769531\n",
            "Accuracy Score : 0.48863636363636365\n",
            "Error Rate:  0.5113636363636364\n",
            ".................................................................................\n",
            "poly kernel\n",
            "Parameters: C =  10  gamma =  None  degree =  50\n",
            "Training time =  0.013370037078857422\n",
            "Accuracy Score : 0.48863636363636365\n",
            "Error Rate:  0.5113636363636364\n",
            ".................................................................................\n"
          ],
          "name": "stdout"
        }
      ]
    },
    {
      "cell_type": "markdown",
      "metadata": {
        "id": "wrEpIe3pRpWr"
      },
      "source": [
        "Through the results above, we can see that the best classification accuracy is achieved when we usa a polynomial kernel with a low degree. Hence, increasing the complexity of our classifier in this case yielded us with better results.  However, the model accuracy drops as the degree is increased, with very low accuracy levels at degrees greater than 15. "
      ]
    },
    {
      "cell_type": "code",
      "metadata": {
        "id": "V-1x6T8a_e3x",
        "colab": {
          "base_uri": "https://localhost:8080/",
          "height": 1853
        },
        "outputId": "488f3d91-f3ee-4501-f042-e4421fefafdf"
      },
      "source": [
        "\"\"\" RBF KERNEL \"\"\"\n",
        "results_rbfs = []\n",
        "for gamma in [0.001,0.1,1,10,100,'auto']:\n",
        "    for C in [0.01,1,10]:\n",
        "        predict_svc('rbf',C=C,gamma=gamma) \n",
        "        "
      ],
      "execution_count": null,
      "outputs": [
        {
          "output_type": "stream",
          "text": [
            "rbf kernel\n",
            "Parameters: C =  0.01  gamma =  0.001  degree =  None\n",
            "Training time =  2.610102653503418\n",
            "Accuracy Score : 0.48863636363636365\n",
            "Error Rate:  0.5113636363636364\n",
            ".................................................................................\n",
            "rbf kernel\n",
            "Parameters: C =  1  gamma =  0.001  degree =  None\n",
            "Training time =  2.6051716804504395\n",
            "Accuracy Score : 0.48863636363636365\n",
            "Error Rate:  0.5113636363636364\n",
            ".................................................................................\n",
            "rbf kernel\n",
            "Parameters: C =  10  gamma =  0.001  degree =  None\n",
            "Training time =  2.5894010066986084\n",
            "Accuracy Score : 0.48863636363636365\n",
            "Error Rate:  0.5113636363636364\n",
            ".................................................................................\n",
            "rbf kernel\n",
            "Parameters: C =  0.01  gamma =  0.1  degree =  None\n",
            "Training time =  2.5965514183044434\n",
            "Accuracy Score : 0.48863636363636365\n",
            "Error Rate:  0.5113636363636364\n",
            ".................................................................................\n",
            "rbf kernel\n",
            "Parameters: C =  1  gamma =  0.1  degree =  None\n",
            "Training time =  2.597097873687744\n",
            "Accuracy Score : 0.48863636363636365\n",
            "Error Rate:  0.5113636363636364\n",
            ".................................................................................\n",
            "rbf kernel\n",
            "Parameters: C =  10  gamma =  0.1  degree =  None\n",
            "Training time =  2.603787422180176\n",
            "Accuracy Score : 0.48863636363636365\n",
            "Error Rate:  0.5113636363636364\n",
            ".................................................................................\n",
            "rbf kernel\n",
            "Parameters: C =  0.01  gamma =  1  degree =  None\n",
            "Training time =  2.6267426013946533\n",
            "Accuracy Score : 0.48863636363636365\n",
            "Error Rate:  0.5113636363636364\n",
            ".................................................................................\n",
            "rbf kernel\n",
            "Parameters: C =  1  gamma =  1  degree =  None\n",
            "Training time =  2.599684000015259\n",
            "Accuracy Score : 0.48863636363636365\n",
            "Error Rate:  0.5113636363636364\n",
            ".................................................................................\n",
            "rbf kernel\n",
            "Parameters: C =  10  gamma =  1  degree =  None\n",
            "Training time =  2.595083475112915\n",
            "Accuracy Score : 0.48863636363636365\n",
            "Error Rate:  0.5113636363636364\n",
            ".................................................................................\n",
            "rbf kernel\n",
            "Parameters: C =  0.01  gamma =  10  degree =  None\n",
            "Training time =  2.586045980453491\n",
            "Accuracy Score : 0.48863636363636365\n",
            "Error Rate:  0.5113636363636364\n",
            ".................................................................................\n",
            "rbf kernel\n",
            "Parameters: C =  1  gamma =  10  degree =  None\n",
            "Training time =  2.614553689956665\n",
            "Accuracy Score : 0.48863636363636365\n",
            "Error Rate:  0.5113636363636364\n",
            ".................................................................................\n",
            "rbf kernel\n",
            "Parameters: C =  10  gamma =  10  degree =  None\n",
            "Training time =  2.607135057449341\n",
            "Accuracy Score : 0.48863636363636365\n",
            "Error Rate:  0.5113636363636364\n",
            ".................................................................................\n",
            "rbf kernel\n",
            "Parameters: C =  0.01  gamma =  100  degree =  None\n",
            "Training time =  2.5814690589904785\n",
            "Accuracy Score : 0.48863636363636365\n",
            "Error Rate:  0.5113636363636364\n",
            ".................................................................................\n",
            "rbf kernel\n",
            "Parameters: C =  1  gamma =  100  degree =  None\n",
            "Training time =  2.599937915802002\n",
            "Accuracy Score : 0.48863636363636365\n",
            "Error Rate:  0.5113636363636364\n",
            ".................................................................................\n",
            "rbf kernel\n",
            "Parameters: C =  10  gamma =  100  degree =  None\n",
            "Training time =  2.5989186763763428\n",
            "Accuracy Score : 0.48863636363636365\n",
            "Error Rate:  0.5113636363636364\n",
            ".................................................................................\n",
            "rbf kernel\n",
            "Parameters: C =  0.01  gamma =  auto  degree =  None\n",
            "Training time =  2.608247995376587\n",
            "Accuracy Score : 0.48863636363636365\n",
            "Error Rate:  0.5113636363636364\n",
            ".................................................................................\n",
            "rbf kernel\n",
            "Parameters: C =  1  gamma =  auto  degree =  None\n",
            "Training time =  2.615640878677368\n",
            "Accuracy Score : 0.48863636363636365\n",
            "Error Rate:  0.5113636363636364\n",
            ".................................................................................\n",
            "rbf kernel\n",
            "Parameters: C =  10  gamma =  auto  degree =  None\n",
            "Training time =  2.5948121547698975\n",
            "Accuracy Score : 0.48863636363636365\n",
            "Error Rate:  0.5113636363636364\n",
            ".................................................................................\n"
          ],
          "name": "stdout"
        }
      ]
    },
    {
      "cell_type": "markdown",
      "metadata": {
        "id": "wq4QDRFWQfDE"
      },
      "source": [
        "However, in the case of Radial Basis Function kernel, we see that sometimes increasing the complexity can result in lower accuracy levels as rbf kernel performs poorly for every defined parameters. This is because the data can only be seperated best at a certain dimension and taking it to other dimension will not have any affect on the classification. "
      ]
    }
  ]
}