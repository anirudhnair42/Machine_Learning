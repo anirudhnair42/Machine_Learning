{
  "nbformat": 4,
  "nbformat_minor": 0,
  "metadata": {
    "kernelspec": {
      "display_name": "Python 3",
      "language": "python",
      "name": "python3"
    },
    "language_info": {
      "codemirror_mode": {
        "name": "ipython",
        "version": 3
      },
      "file_extension": ".py",
      "mimetype": "text/x-python",
      "name": "python",
      "nbconvert_exporter": "python",
      "pygments_lexer": "ipython3",
      "version": "3.7.3"
    },
    "colab": {
      "name": "CS156_Assignment_.ipynb",
      "provenance": []
    }
  },
  "cells": [
    {
      "cell_type": "markdown",
      "metadata": {
        "id": "JVjdLTinUo12"
      },
      "source": [
        "# Assignment 5\n",
        "## CS 156 | Prof. Sterne\n",
        "### Anirudh Nair"
      ]
    },
    {
      "cell_type": "markdown",
      "metadata": {
        "id": "bDEoTSWFUo14"
      },
      "source": [
        "##### Loading the required libraries"
      ]
    },
    {
      "cell_type": "code",
      "metadata": {
        "id": "1B3s2iQrUo15"
      },
      "source": [
        "import numpy as np\n",
        "import pandas as pd\n",
        "import matplotlib.pyplot as plt\n",
        "import seaborn as sns\n",
        "from datetime import datetime\n",
        "from random import uniform\n",
        "from math import sqrt, log, exp, pi\n"
      ],
      "execution_count": null,
      "outputs": []
    },
    {
      "cell_type": "markdown",
      "metadata": {
        "id": "FgoEpx-kUo19"
      },
      "source": [
        "##### Loading the dataset"
      ]
    },
    {
      "cell_type": "code",
      "metadata": {
        "id": "rd3QQxs5Uo1-",
        "colab": {
          "base_uri": "https://localhost:8080/",
          "height": 359
        },
        "outputId": "9f43c0f3-23ee-4a83-e2d7-1ce15a055c85"
      },
      "source": [
        "data = pd.read_csv('https://course-resources.minerva.kgi.edu/uploaded_files/mke/Y5GZpr/anonymized.csv')\n",
        "data.head(n=10)"
      ],
      "execution_count": null,
      "outputs": [
        {
          "output_type": "execute_result",
          "data": {
            "text/html": [
              "<div>\n",
              "<style scoped>\n",
              "    .dataframe tbody tr th:only-of-type {\n",
              "        vertical-align: middle;\n",
              "    }\n",
              "\n",
              "    .dataframe tbody tr th {\n",
              "        vertical-align: top;\n",
              "    }\n",
              "\n",
              "    .dataframe thead th {\n",
              "        text-align: right;\n",
              "    }\n",
              "</style>\n",
              "<table border=\"1\" class=\"dataframe\">\n",
              "  <thead>\n",
              "    <tr style=\"text-align: right;\">\n",
              "      <th></th>\n",
              "      <th>Date</th>\n",
              "      <th>Amount</th>\n",
              "    </tr>\n",
              "  </thead>\n",
              "  <tbody>\n",
              "    <tr>\n",
              "      <th>0</th>\n",
              "      <td>25May2016</td>\n",
              "      <td>54241.35</td>\n",
              "    </tr>\n",
              "    <tr>\n",
              "      <th>1</th>\n",
              "      <td>29May2017</td>\n",
              "      <td>54008.83</td>\n",
              "    </tr>\n",
              "    <tr>\n",
              "      <th>2</th>\n",
              "      <td>30Jun2017</td>\n",
              "      <td>54008.82</td>\n",
              "    </tr>\n",
              "    <tr>\n",
              "      <th>3</th>\n",
              "      <td>05Jan2017</td>\n",
              "      <td>52704.37</td>\n",
              "    </tr>\n",
              "    <tr>\n",
              "      <th>4</th>\n",
              "      <td>23Feb2017</td>\n",
              "      <td>52704.36</td>\n",
              "    </tr>\n",
              "    <tr>\n",
              "      <th>5</th>\n",
              "      <td>04Nov2016</td>\n",
              "      <td>52000.00</td>\n",
              "    </tr>\n",
              "    <tr>\n",
              "      <th>6</th>\n",
              "      <td>28Sep2017</td>\n",
              "      <td>49878.83</td>\n",
              "    </tr>\n",
              "    <tr>\n",
              "      <th>7</th>\n",
              "      <td>04Apr2017</td>\n",
              "      <td>49878.82</td>\n",
              "    </tr>\n",
              "    <tr>\n",
              "      <th>8</th>\n",
              "      <td>25Jul2017</td>\n",
              "      <td>49878.82</td>\n",
              "    </tr>\n",
              "    <tr>\n",
              "      <th>9</th>\n",
              "      <td>24Aug2017</td>\n",
              "      <td>49878.82</td>\n",
              "    </tr>\n",
              "  </tbody>\n",
              "</table>\n",
              "</div>"
            ],
            "text/plain": [
              "        Date    Amount\n",
              "0  25May2016  54241.35\n",
              "1  29May2017  54008.83\n",
              "2  30Jun2017  54008.82\n",
              "3  05Jan2017  52704.37\n",
              "4  23Feb2017  52704.36\n",
              "5  04Nov2016  52000.00\n",
              "6  28Sep2017  49878.83\n",
              "7  04Apr2017  49878.82\n",
              "8  25Jul2017  49878.82\n",
              "9  24Aug2017  49878.82"
            ]
          },
          "metadata": {
            "tags": []
          },
          "execution_count": 2
        }
      ]
    },
    {
      "cell_type": "markdown",
      "metadata": {
        "id": "EqfPsivaUo2C"
      },
      "source": [
        "##### Seperating the datetime values in the dataset for ease of usage"
      ]
    },
    {
      "cell_type": "code",
      "metadata": {
        "id": "qjW_qwplUo2E",
        "colab": {
          "base_uri": "https://localhost:8080/",
          "height": 359
        },
        "outputId": "342ecf78-0942-4fa8-8bf5-0c9b9b63b166"
      },
      "source": [
        "dates = list(map(lambda date: datetime.strptime(date, '%d%b%Y'), data['Date']))\n",
        "day = pd.Series(list(map(lambda date: date.day, dates)))\n",
        "month = pd.Series(list(map(lambda date: date.month, dates)))\n",
        "year = pd.Series(list(map(lambda date: date.year, dates)))\n",
        "day.name = 'Day'\n",
        "month.name = 'Month'\n",
        "year.name = 'Year'\n",
        "\n",
        "newdata = pd.concat([day,month,year,data.Amount], axis =1)\n",
        "newdata.head(n=10)"
      ],
      "execution_count": null,
      "outputs": [
        {
          "output_type": "execute_result",
          "data": {
            "text/html": [
              "<div>\n",
              "<style scoped>\n",
              "    .dataframe tbody tr th:only-of-type {\n",
              "        vertical-align: middle;\n",
              "    }\n",
              "\n",
              "    .dataframe tbody tr th {\n",
              "        vertical-align: top;\n",
              "    }\n",
              "\n",
              "    .dataframe thead th {\n",
              "        text-align: right;\n",
              "    }\n",
              "</style>\n",
              "<table border=\"1\" class=\"dataframe\">\n",
              "  <thead>\n",
              "    <tr style=\"text-align: right;\">\n",
              "      <th></th>\n",
              "      <th>Day</th>\n",
              "      <th>Month</th>\n",
              "      <th>Year</th>\n",
              "      <th>Amount</th>\n",
              "    </tr>\n",
              "  </thead>\n",
              "  <tbody>\n",
              "    <tr>\n",
              "      <th>0</th>\n",
              "      <td>25</td>\n",
              "      <td>5</td>\n",
              "      <td>2016</td>\n",
              "      <td>54241.35</td>\n",
              "    </tr>\n",
              "    <tr>\n",
              "      <th>1</th>\n",
              "      <td>29</td>\n",
              "      <td>5</td>\n",
              "      <td>2017</td>\n",
              "      <td>54008.83</td>\n",
              "    </tr>\n",
              "    <tr>\n",
              "      <th>2</th>\n",
              "      <td>30</td>\n",
              "      <td>6</td>\n",
              "      <td>2017</td>\n",
              "      <td>54008.82</td>\n",
              "    </tr>\n",
              "    <tr>\n",
              "      <th>3</th>\n",
              "      <td>5</td>\n",
              "      <td>1</td>\n",
              "      <td>2017</td>\n",
              "      <td>52704.37</td>\n",
              "    </tr>\n",
              "    <tr>\n",
              "      <th>4</th>\n",
              "      <td>23</td>\n",
              "      <td>2</td>\n",
              "      <td>2017</td>\n",
              "      <td>52704.36</td>\n",
              "    </tr>\n",
              "    <tr>\n",
              "      <th>5</th>\n",
              "      <td>4</td>\n",
              "      <td>11</td>\n",
              "      <td>2016</td>\n",
              "      <td>52000.00</td>\n",
              "    </tr>\n",
              "    <tr>\n",
              "      <th>6</th>\n",
              "      <td>28</td>\n",
              "      <td>9</td>\n",
              "      <td>2017</td>\n",
              "      <td>49878.83</td>\n",
              "    </tr>\n",
              "    <tr>\n",
              "      <th>7</th>\n",
              "      <td>4</td>\n",
              "      <td>4</td>\n",
              "      <td>2017</td>\n",
              "      <td>49878.82</td>\n",
              "    </tr>\n",
              "    <tr>\n",
              "      <th>8</th>\n",
              "      <td>25</td>\n",
              "      <td>7</td>\n",
              "      <td>2017</td>\n",
              "      <td>49878.82</td>\n",
              "    </tr>\n",
              "    <tr>\n",
              "      <th>9</th>\n",
              "      <td>24</td>\n",
              "      <td>8</td>\n",
              "      <td>2017</td>\n",
              "      <td>49878.82</td>\n",
              "    </tr>\n",
              "  </tbody>\n",
              "</table>\n",
              "</div>"
            ],
            "text/plain": [
              "   Day  Month  Year    Amount\n",
              "0   25      5  2016  54241.35\n",
              "1   29      5  2017  54008.83\n",
              "2   30      6  2017  54008.82\n",
              "3    5      1  2017  52704.37\n",
              "4   23      2  2017  52704.36\n",
              "5    4     11  2016  52000.00\n",
              "6   28      9  2017  49878.83\n",
              "7    4      4  2017  49878.82\n",
              "8   25      7  2017  49878.82\n",
              "9   24      8  2017  49878.82"
            ]
          },
          "metadata": {
            "tags": []
          },
          "execution_count": 3
        }
      ]
    },
    {
      "cell_type": "markdown",
      "metadata": {
        "id": "jYhXlyFNUo2H"
      },
      "source": [
        "##### Creating a function to retreive the Gaussian Mixture Model for the given data"
      ]
    },
    {
      "cell_type": "code",
      "metadata": {
        "id": "UhSRULPTUo2I"
      },
      "source": [
        "#code retreived from class reading at : https://www.youtube.com/watch?v=JNlEIEwe-Cg&t=143s\n",
        "\n",
        "class Gaussian:\n",
        "    \"Model univariate Gaussian\"\n",
        "    def __init__(self, mu, sigma):\n",
        "        #mean and standard deviation\n",
        "        self.mu = mu\n",
        "        self.sigma = sigma\n",
        "\n",
        "    #probability density function\n",
        "    def pdf(self, datum):\n",
        "        \"Probability of a data point given the current parameters\"\n",
        "        u = (datum - self.mu) / abs(self.sigma)\n",
        "        y = (1 / (sqrt(2 * pi) * abs(self.sigma))) * exp(-u * u / 2)\n",
        "        return y\n",
        "    #printing model values\n",
        "    def __repr__(self):\n",
        "        return 'Gaussian({0:4.6}, {1:4.6})'.format(self.mu, self.sigma)\n",
        "\n",
        "class GaussianMixture:\n",
        "    \"Model mixture of two univariate Gaussians and their EM estimation\"\n",
        "\n",
        "    def __init__(self, data, mu_min=min(data), mu_max=max(data), sigma_min=.1, sigma_max=1, mix=.5):\n",
        "        self.data = data\n",
        "        #init with multiple gaussians\n",
        "        self.one = Gaussian(uniform(mu_min, mu_max), \n",
        "                            uniform(sigma_min, sigma_max))\n",
        "        self.two = Gaussian(uniform(mu_min, mu_max), \n",
        "                            uniform(sigma_min, sigma_max))\n",
        "        \n",
        "        #as well as how much to mix them\n",
        "        self.mix = mix\n",
        "\n",
        "    def Estep(self):\n",
        "        \"Perform an E(stimation)-step, freshening up self.loglike in the process\"\n",
        "        # compute weights\n",
        "        self.loglike = 0. # = log(p = 1)\n",
        "        for datum in self.data:\n",
        "            # unnormalized weights\n",
        "            wp1 = self.one.pdf(datum) * self.mix\n",
        "            wp2 = self.two.pdf(datum) * (1. - self.mix)\n",
        "            # compute denominator\n",
        "            den = wp1 + wp2\n",
        "            # normalize\n",
        "            wp1 /= den\n",
        "            wp2 /= den\n",
        "            # add into loglike\n",
        "            self.loglike += log(wp1 + wp2)\n",
        "            # yield weight tuple\n",
        "            yield (wp1, wp2)\n",
        "\n",
        "    def Mstep(self, weights):\n",
        "        \"Perform an M(aximization)-step\"\n",
        "        # compute denominators\n",
        "        (left, rigt) = zip(*weights)\n",
        "        one_den = sum(left)\n",
        "        two_den = sum(rigt)\n",
        "        # compute new means\n",
        "        self.one.mu = sum(w * d / one_den for (w, d) in zip(left, data))\n",
        "        self.two.mu = sum(w * d / two_den for (w, d) in zip(rigt, data))\n",
        "        # compute new sigmas\n",
        "        self.one.sigma = sqrt(sum(w * ((d - self.one.mu) ** 2)\n",
        "                                  for (w, d) in zip(left, data)) / one_den)\n",
        "        self.two.sigma = sqrt(sum(w * ((d - self.two.mu) ** 2)\n",
        "                                  for (w, d) in zip(rigt, data)) / two_den)\n",
        "        # compute new mix\n",
        "        self.mix = one_den / len(data)\n",
        "\n",
        "    def iterate(self, N=1, verbose=False):\n",
        "        \"Perform N iterations, then compute log-likelihood\"\n",
        "\n",
        "    def pdf(self, x):\n",
        "        return (self.mix)*self.one.pdf(x) + (1-self.mix)*self.two.pdf(x)\n",
        "        \n",
        "    def __repr__(self):\n",
        "        return 'GaussianMixture({0}, {1}, mix={2.03})'.format(self.one, \n",
        "                                                              self.two, \n",
        "                                                              self.mix)\n",
        "\n",
        "    def __str__(self):\n",
        "        return 'Mixture: {0}, {1}, mix={2:.03})'.format(self.one, \n",
        "                                                        self.two, \n",
        "                                                        self.mix)"
      ],
      "execution_count": null,
      "outputs": []
    },
    {
      "cell_type": "markdown",
      "metadata": {
        "id": "qwVJpNGAUo2L"
      },
      "source": [
        "##### Density Model for the number of transactions occuring in a single month"
      ]
    },
    {
      "cell_type": "code",
      "metadata": {
        "id": "w8NRB_O0Uo2M"
      },
      "source": [
        "#retreiving the required data\n",
        "month_data = newdata.sort_values(by=['Year','Month'])\n",
        "transactions = []\n",
        "cur = -1\n",
        "count = 0\n",
        "\n",
        "for i in month_data.index:\n",
        "    if month_data.loc[i, 'Month'] != cur:\n",
        "        if cur != -1: # not first iteration\n",
        "            transactions.append(count)\n",
        "        cur = month_data.loc[i, 'Month']\n",
        "        count = 0\n",
        "    count += 1\n",
        "    "
      ],
      "execution_count": null,
      "outputs": []
    },
    {
      "cell_type": "code",
      "metadata": {
        "id": "Ly0mXWPHUo2Q",
        "colab": {
          "base_uri": "https://localhost:8080/",
          "height": 375
        },
        "outputId": "5416db0d-431e-4df1-9cd4-06c3fecd5675"
      },
      "source": [
        "\n",
        "#fitting the gaussian mixture models\n",
        "n_iterations = 5\n",
        "best_mix = None\n",
        "best_loglike = float('-inf')\n",
        "mix = GaussianMixture(transactions)\n",
        "for _ in range(n_iterations):\n",
        "    try:\n",
        "        #train!\n",
        "        mix.iterate(verbose=True)\n",
        "        if mix.loglike > best_loglike:\n",
        "            best_loglike = mix.loglike\n",
        "            best_mix = mix\n",
        "        \n",
        "    except (ZeroDivisionError, ValueError, RuntimeWarning): # Catch division errors from bad starts, and just throw them out...\n",
        "        pass"
      ],
      "execution_count": null,
      "outputs": [
        {
          "output_type": "error",
          "ename": "TypeError",
          "evalue": "ignored",
          "traceback": [
            "\u001b[0;31m---------------------------------------------------------------------------\u001b[0m",
            "\u001b[0;31mTypeError\u001b[0m                                 Traceback (most recent call last)",
            "\u001b[0;32m<ipython-input-7-007899803a7e>\u001b[0m in \u001b[0;36m<module>\u001b[0;34m()\u001b[0m\n\u001b[1;32m      2\u001b[0m \u001b[0mbest_mix\u001b[0m \u001b[0;34m=\u001b[0m \u001b[0;32mNone\u001b[0m\u001b[0;34m\u001b[0m\u001b[0;34m\u001b[0m\u001b[0m\n\u001b[1;32m      3\u001b[0m \u001b[0mbest_loglike\u001b[0m \u001b[0;34m=\u001b[0m \u001b[0mfloat\u001b[0m\u001b[0;34m(\u001b[0m\u001b[0;34m'-inf'\u001b[0m\u001b[0;34m)\u001b[0m\u001b[0;34m\u001b[0m\u001b[0;34m\u001b[0m\u001b[0m\n\u001b[0;32m----> 4\u001b[0;31m \u001b[0mmix\u001b[0m \u001b[0;34m=\u001b[0m \u001b[0mGaussianMixture\u001b[0m\u001b[0;34m(\u001b[0m\u001b[0mtransactions\u001b[0m\u001b[0;34m)\u001b[0m\u001b[0;34m\u001b[0m\u001b[0;34m\u001b[0m\u001b[0m\n\u001b[0m\u001b[1;32m      5\u001b[0m \u001b[0;32mfor\u001b[0m \u001b[0m_\u001b[0m \u001b[0;32min\u001b[0m \u001b[0mrange\u001b[0m\u001b[0;34m(\u001b[0m\u001b[0mn_iterations\u001b[0m\u001b[0;34m)\u001b[0m\u001b[0;34m:\u001b[0m\u001b[0;34m\u001b[0m\u001b[0;34m\u001b[0m\u001b[0m\n\u001b[1;32m      6\u001b[0m     \u001b[0;32mtry\u001b[0m\u001b[0;34m:\u001b[0m\u001b[0;34m\u001b[0m\u001b[0;34m\u001b[0m\u001b[0m\n",
            "\u001b[0;32m<ipython-input-4-899bf8047534>\u001b[0m in \u001b[0;36m__init__\u001b[0;34m(self, data, mu_min, mu_max, sigma_min, sigma_max, mix)\u001b[0m\n\u001b[1;32m     23\u001b[0m         \u001b[0mself\u001b[0m\u001b[0;34m.\u001b[0m\u001b[0mdata\u001b[0m \u001b[0;34m=\u001b[0m \u001b[0mdata\u001b[0m\u001b[0;34m\u001b[0m\u001b[0;34m\u001b[0m\u001b[0m\n\u001b[1;32m     24\u001b[0m         \u001b[0;31m#init with multiple gaussians\u001b[0m\u001b[0;34m\u001b[0m\u001b[0;34m\u001b[0m\u001b[0;34m\u001b[0m\u001b[0m\n\u001b[0;32m---> 25\u001b[0;31m         self.one = Gaussian(uniform(mu_min, mu_max), \n\u001b[0m\u001b[1;32m     26\u001b[0m                             uniform(sigma_min, sigma_max))\n\u001b[1;32m     27\u001b[0m         self.two = Gaussian(uniform(mu_min, mu_max), \n",
            "\u001b[0;32m/usr/lib/python3.6/random.py\u001b[0m in \u001b[0;36muniform\u001b[0;34m(self, a, b)\u001b[0m\n\u001b[1;32m    371\u001b[0m     \u001b[0;32mdef\u001b[0m \u001b[0muniform\u001b[0m\u001b[0;34m(\u001b[0m\u001b[0mself\u001b[0m\u001b[0;34m,\u001b[0m \u001b[0ma\u001b[0m\u001b[0;34m,\u001b[0m \u001b[0mb\u001b[0m\u001b[0;34m)\u001b[0m\u001b[0;34m:\u001b[0m\u001b[0;34m\u001b[0m\u001b[0;34m\u001b[0m\u001b[0m\n\u001b[1;32m    372\u001b[0m         \u001b[0;34m\"Get a random number in the range [a, b) or [a, b] depending on rounding.\"\u001b[0m\u001b[0;34m\u001b[0m\u001b[0;34m\u001b[0m\u001b[0m\n\u001b[0;32m--> 373\u001b[0;31m         \u001b[0;32mreturn\u001b[0m \u001b[0ma\u001b[0m \u001b[0;34m+\u001b[0m \u001b[0;34m(\u001b[0m\u001b[0mb\u001b[0m\u001b[0;34m-\u001b[0m\u001b[0ma\u001b[0m\u001b[0;34m)\u001b[0m \u001b[0;34m*\u001b[0m \u001b[0mself\u001b[0m\u001b[0;34m.\u001b[0m\u001b[0mrandom\u001b[0m\u001b[0;34m(\u001b[0m\u001b[0;34m)\u001b[0m\u001b[0;34m\u001b[0m\u001b[0;34m\u001b[0m\u001b[0m\n\u001b[0m\u001b[1;32m    374\u001b[0m \u001b[0;34m\u001b[0m\u001b[0m\n\u001b[1;32m    375\u001b[0m \u001b[0;31m## -------------------- triangular --------------------\u001b[0m\u001b[0;34m\u001b[0m\u001b[0;34m\u001b[0m\u001b[0;34m\u001b[0m\u001b[0m\n",
            "\u001b[0;31mTypeError\u001b[0m: unsupported operand type(s) for -: 'str' and 'str'"
          ]
        }
      ]
    },
    {
      "cell_type": "code",
      "metadata": {
        "id": "chpojMc3Uo2T"
      },
      "source": [
        ""
      ],
      "execution_count": null,
      "outputs": []
    },
    {
      "cell_type": "code",
      "metadata": {
        "id": "-bL3vMIQUo2U"
      },
      "source": [
        ""
      ],
      "execution_count": null,
      "outputs": []
    },
    {
      "cell_type": "code",
      "metadata": {
        "id": "z_bkW9AUUo2W"
      },
      "source": [
        ""
      ],
      "execution_count": null,
      "outputs": []
    }
  ]
}